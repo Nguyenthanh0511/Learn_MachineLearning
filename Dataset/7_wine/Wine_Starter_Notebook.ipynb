{
 "cells": [
  {
   "cell_type": "markdown",
   "id": "11fa7de9-1a4b-4dde-a2c2-88e441e3449f",
   "metadata": {},
   "source": [
    "# Wine Quality (Red)"
   ]
  },
  {
   "cell_type": "markdown",
   "id": "6b22d3e0-7fe4-43cd-8f6a-5cc37f08288b",
   "metadata": {},
   "source": [
    "**Data Source**: https://archive.ics.uci.edu/dataset/186/wine+quality  \n",
    "The goal is to model wine quality based on physicochemical tests"
   ]
  },
  {
   "cell_type": "code",
   "execution_count": null,
   "id": "c8d71569-2ee0-4649-8249-a6bfde8e2cd5",
   "metadata": {},
   "outputs": [],
   "source": [
    "col_names = [\"fixed acidity\", \"volatile acidity\", \"citric acid\", \"residual sugar\",\n",
    "             \"chlorides\", \"free sulfur dioxide\", \"total sulfur dioxide\", \"density\",\n",
    "             \"pH\", \"sulphates\", \"alcohol\", \"Class\"]"
   ]
  },
  {
   "cell_type": "markdown",
   "id": "6dd7ed37-f51b-4f9b-80fe-549353dd8022",
   "metadata": {},
   "source": [
    "## 1.Load dữ liệu"
   ]
  },
  {
   "cell_type": "code",
   "execution_count": null,
   "id": "65b1b77a-6175-4ca6-86ea-62122c954ffe",
   "metadata": {},
   "outputs": [],
   "source": []
  },
  {
   "cell_type": "code",
   "execution_count": null,
   "id": "a676d19b-e5e8-48d3-8919-9bb4f7a5ebef",
   "metadata": {},
   "outputs": [],
   "source": []
  },
  {
   "cell_type": "markdown",
   "id": "ecf547f0-0c53-4eb2-985f-c979d856ba5d",
   "metadata": {},
   "source": [
    "## 2.Kiểm tra dữ liệu"
   ]
  },
  {
   "cell_type": "code",
   "execution_count": null,
   "id": "828ac5df-3d60-466c-a73a-32ace281f0ee",
   "metadata": {},
   "outputs": [],
   "source": []
  },
  {
   "cell_type": "code",
   "execution_count": null,
   "id": "e0df5163-b6c5-4fe9-9d39-06314bd6859c",
   "metadata": {},
   "outputs": [],
   "source": []
  },
  {
   "cell_type": "markdown",
   "id": "bf162a78-c557-445a-9634-2c38acd5558a",
   "metadata": {},
   "source": [
    "## 3. Chia dữ liệu thành các tập Train, Val, Test"
   ]
  },
  {
   "cell_type": "code",
   "execution_count": null,
   "id": "baf69835-99b2-4260-860b-a6e799635607",
   "metadata": {},
   "outputs": [],
   "source": []
  },
  {
   "cell_type": "code",
   "execution_count": null,
   "id": "d7f49f0a-d941-45bd-ad2c-248c198c37a5",
   "metadata": {},
   "outputs": [],
   "source": []
  },
  {
   "cell_type": "markdown",
   "id": "064ec587-d4b3-447b-9c61-519451b79507",
   "metadata": {},
   "source": [
    "## 4. Mô hình"
   ]
  },
  {
   "cell_type": "code",
   "execution_count": null,
   "id": "b6b977e6-2f38-4250-87e4-da53ad3403dd",
   "metadata": {},
   "outputs": [],
   "source": []
  },
  {
   "cell_type": "code",
   "execution_count": null,
   "id": "a68073b3-70c6-4103-9c7d-67a6c22d8c8d",
   "metadata": {},
   "outputs": [],
   "source": []
  },
  {
   "cell_type": "markdown",
   "id": "24a21798-85a9-4e2a-906b-5c03d7c9205a",
   "metadata": {},
   "source": [
    "## 5. Đánh giá mô hình"
   ]
  },
  {
   "cell_type": "code",
   "execution_count": null,
   "id": "f8180a48-5429-464d-845d-9a6a1a40099a",
   "metadata": {},
   "outputs": [],
   "source": []
  },
  {
   "cell_type": "code",
   "execution_count": null,
   "id": "b575f126-5757-4ee5-bc78-b0114ac9ffe0",
   "metadata": {},
   "outputs": [],
   "source": []
  }
 ],
 "metadata": {
  "kernelspec": {
   "display_name": "ml",
   "language": "python",
   "name": "ml"
  },
  "language_info": {
   "codemirror_mode": {
    "name": "ipython",
    "version": 3
   },
   "file_extension": ".py",
   "mimetype": "text/x-python",
   "name": "python",
   "nbconvert_exporter": "python",
   "pygments_lexer": "ipython3",
   "version": "3.10.0"
  }
 },
 "nbformat": 4,
 "nbformat_minor": 5
}
