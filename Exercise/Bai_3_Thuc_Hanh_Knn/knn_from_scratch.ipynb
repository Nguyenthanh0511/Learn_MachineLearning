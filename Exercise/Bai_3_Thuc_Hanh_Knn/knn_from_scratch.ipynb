{
 "cells": [
  {
   "cell_type": "code",
   "execution_count": 20,
   "metadata": {},
   "outputs": [
    {
     "name": "stdout",
     "output_type": "stream",
     "text": [
      "    outlook  temp.  humidity  windy  play\n",
      "0         0      0         1      0     0\n",
      "1         0      0         1      1     0\n",
      "2         1      0         1      0     1\n",
      "3         2      2         1      0     1\n",
      "4         2      1         0      0     1\n",
      "5         2      1         0      1     0\n",
      "6         1      1         0      1     1\n",
      "7         0      2         1      0     0\n",
      "8         0      1         0      0     1\n",
      "9         2      2         0      0     1\n",
      "10        0      2         0      1     1\n",
      "11        1      2         1      1     1\n",
      "12        1      0         0      0     1\n",
      "13        2      2         1      1     0\n"
     ]
    }
   ],
   "source": [
    "import pandas as pd\n",
    "# read csv file\n",
    "df = pd.read_csv(\"data/Weather_Play.csv\")\n",
    "#print(df.head())\n",
    "\n",
    "# Convert to number\n",
    "# outlook: 'sunny': 0, 'overcast': 1, 'rainy': 2\n",
    "df['outlook'] = df['outlook'].map({'sunny': 0, 'overcast': 1, 'rainy': 2})\n",
    "\n",
    "# temp.: 'hot': 0, 'cool': 1, 'mild':2 \n",
    "df['temp.'] = df['temp.'].map({'hot': 0, 'cool': 1, 'mild': 2})\n",
    "\n",
    "# humidity: 'normal': 0, 'high': 1\n",
    "df['humidity'] = df['humidity'].map({'normal': 0, 'high': 1})\n",
    "\n",
    "# windy: 'False': 0, 'True': 1\n",
    "df['windy'] = df['windy'].map({False: 0, True: 1})\n",
    "\n",
    "# play: 'no': 0, 'yes': 1\n",
    "df['play'] = df['play'].map({'no': 0, 'yes': 1})\n",
    "\n",
    "print(df)\n",
    "\n",
    "X = df.drop(['play'], axis = 1).values\n",
    "y = df['play'].values\n",
    "#print(X)\n",
    "#print(y)"
   ]
  },
  {
   "cell_type": "code",
   "execution_count": 21,
   "metadata": {},
   "outputs": [],
   "source": [
    "import numpy as np\n",
    "from collections import Counter\n",
    "\n",
    "class KNN:\n",
    "    \"\"\"\n",
    "    param k: Number of nearest neighbors to consider.\n",
    "    param metric: Type of distance metric ('euclidean', 'manhattan').\n",
    "    \"\"\"\n",
    "    def __init__(self, k=5, metric = 'euclidean'):\n",
    "        self.k = k\n",
    "        self.metric = metric\n",
    "        self.X_train = None\n",
    "        self.y_train = None\n",
    "\n",
    "    def fit(self, X, y):\n",
    "        self.X_train = X\n",
    "        self.y_train = y\n",
    "\n",
    "    # Compute the distance between two points based on the chosen metric\n",
    "    def distance(self, x1, x2):\n",
    "        if self.metric == \"euclidean\":\n",
    "            return np.sqrt(np.sum((x1 - x2)**2))\n",
    "        \n",
    "        if self.metric == \"manhattan\":\n",
    "            return np.sum(np.abs(x1 - x2))\n",
    "        \n",
    "        else:\n",
    "            raise ValueError(f\"Unknown distance metric '{self.metric}'\")\n",
    "\n",
    "    def predict_batch(self, X):\n",
    "        y_pred = [self.predict(x) for x in X]\n",
    "        return y_pred\n",
    "\n",
    "    def predict(self, x):\n",
    "        # Compute distance to all points in train set\n",
    "        distances = [self.distance(x, x_train) for x_train in self.X_train]\n",
    "        # Sort the distance with index\n",
    "        top_idx = np.argsort(distances)[:self.k]\n",
    "        # Get top K label\n",
    "        k_nearests = self.y_train[top_idx]\n",
    "        # Predict the label\n",
    "        label = Counter(k_nearests).most_common(1)[0][0]\n",
    "        \n",
    "        return label"
   ]
  },
  {
   "cell_type": "code",
   "execution_count": 22,
   "metadata": {},
   "outputs": [
    {
     "name": "stdout",
     "output_type": "stream",
     "text": [
      "Predictions (Euclidean): [1, 1, 1]\n",
      "Predictions (Manhattan): [0, 1, 1]\n",
      "[1 1 0]\n"
     ]
    }
   ],
   "source": [
    "from sklearn.model_selection import train_test_split\n",
    "\n",
    "# Split the data into training set and test set\n",
    "X_train, X_test, y_train, y_test = train_test_split(X, y, test_size= 0.2, random_state=42)\n",
    "\n",
    "# Create KNN instance with different metrics\n",
    "knn_euclidean = KNN(k=5, metric='euclidean')\n",
    "knn_manhattan = KNN(k=5, metric='manhattan')\n",
    "\n",
    "# Fit the model\n",
    "knn_euclidean.fit(X_train, y_train)\n",
    "knn_manhattan.fit(X_train, y_train)\n",
    "\n",
    "# Predict\n",
    "predictions_euclidean = knn_euclidean.predict_batch(X_test)\n",
    "predictions_manhattan = knn_manhattan.predict_batch(X_test)\n",
    "\n",
    "# Convert predictions to Python list for clean output\n",
    "predictions_euclidean = list(map(int, predictions_euclidean))\n",
    "predictions_manhattan = list(map(int, predictions_manhattan))\n",
    "\n",
    "print(\"Predictions (Euclidean):\", predictions_euclidean)\n",
    "print(\"Predictions (Manhattan):\", predictions_manhattan)\n",
    "print(\"Label of data test:\", y_test)"
   ]
  }
 ],
 "metadata": {
  "kernelspec": {
   "display_name": "base",
   "language": "python",
   "name": "python3"
  },
  "language_info": {
   "codemirror_mode": {
    "name": "ipython",
    "version": 3
   },
   "file_extension": ".py",
   "mimetype": "text/x-python",
   "name": "python",
   "nbconvert_exporter": "python",
   "pygments_lexer": "ipython3",
   "version": "3.12.2"
  }
 },
 "nbformat": 4,
 "nbformat_minor": 2
}
