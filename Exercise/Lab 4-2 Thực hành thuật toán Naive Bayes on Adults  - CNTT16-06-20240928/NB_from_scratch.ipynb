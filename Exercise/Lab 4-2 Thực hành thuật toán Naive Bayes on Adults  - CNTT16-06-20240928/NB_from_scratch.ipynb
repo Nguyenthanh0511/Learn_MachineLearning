{
 "cells": [
  {
   "cell_type": "markdown",
   "metadata": {},
   "source": [
    "## BÀI THỰC HÀNH SỐ 4: THỰC HÀNH KỸ THUẬT NAIVE BAYES\n",
    "\n",
    "Thuật toán Naive Bayes hoạt động dựa trên Định lý Bayes và giả định rằng các đặc trưng độc lập với nhau\n",
    "$$\n",
    "P(c|X) = \\frac{ P(X|c) * P(c) }{P(X)}\n",
    "$$\n",
    "Trong đó:\n",
    "$P(c|X)$ là xác suất hậu nghiệm của lớp $y$ khi biết các đặt trưng $X$\n",
    "$P(X∣c)$ là xác suất có điều kiện của các đặc trưng $X$ khi biết lớp $c$\n",
    "$P(c)$ là xác suất tiên nghiệm của lớp $c$\n",
    "$P(X)$ là xác suất của các đặc trưng $X$."
   ]
  },
  {
   "cell_type": "markdown",
   "metadata": {},
   "source": [
    "Bước 1: Khởi tạo các thuộc tính cho từng thực thể của class MultinomialNaiveBayes\n",
    "\n"
   ]
  },
  {
   "cell_type": "markdown",
   "metadata": {},
   "source": [
    "Bước 2: Tính toán xác suất tiên nghiệm của các lớp $y$:\n",
    "$P(y)$ được tính bằng tỉ lệ số điểm dữ liệu trong tập huấn luyện rơi vào class này chia cho tổng số lượng dữ liệu trong tập huấn luyện\n",
    "\n",
    "$$\n",
    "P(Y_i) = \\frac{N_i}{N}\n",
    "$$\n",
    "\n",
    "Trong đó: \n",
    "$P(Y_i)$: xác suất tiên nghiệm của lớp $Y_i$\n",
    "$N_i$: số lượng mẫu thuộc lớp $Y_i$\n",
    "$N$: tổng số lượng mẫu trong toàn bộ tập dữ liệu\n"
   ]
  },
  {
   "cell_type": "markdown",
   "metadata": {},
   "source": [
    "Bước 3: Tính $p(x_i|y)$ (likelihood) là tỷ lệ với tần suất từ thứ i (hay đặc trưng thứ i trong trường hợp tổng quát) xuất hiện trong các văn bản của class y. \n",
    "$$\n",
    "p(x_i| y) = log(\\frac{N_{yi} + \\alpha}{N_y + d \\alpha})\n",
    "$$\n",
    "Trong đó:\n",
    "$N_{yi}$ là tổng số lần từ thứ $i$ xuất hiện trong các văn bản của class $y$, nó được tính bằng tổng của tất cả các thành phần thứ i của các vector đặc trưng ứng với lớp $y$.\n",
    "$N_y$ là tổng số từ (kể cả lặp) xuất hiện trong class $y$. Nói các khác, nó bằng tổng độ dài của toàn bộ các văn bản thuộc vào class $y$. \n",
    "$\\alpha$ là hệ số Laplace smoothing"
   ]
  },
  {
   "cell_type": "code",
   "execution_count": 1,
   "metadata": {},
   "outputs": [],
   "source": [
    "import numpy as np\n",
    "\n",
    "class MultinomialNaiveBayes:\n",
    "    def __init__(self, alpha=1.0):\n",
    "        self.alpha = alpha  # Tham số làm mịn Laplace\n",
    "        self.class_prior = None  # Xác suất tiên nghiệm của các lớp\n",
    "        self.feature_prob = None  # Xác suất có điều kiện của các đặc trưng cho lớp\n",
    "        self.classes = None  # Các lớp duy nhất\n",
    "\n",
    "    def fit(self, X, y):\n",
    "        \"\"\"Huấn luyện mô hình với dữ liệu.\"\"\"\n",
    "        self.classes, self.class_prior = self.compute_class_prior(y)\n",
    "        self.feature_prob = self.compute_feature_prob(X, y)\n",
    "\n",
    "    def compute_class_prior(self, y):\n",
    "        \"\"\"Tính xác suất tiên nghiệm của từng lớp.\"\"\"\n",
    "        n_samples = len(y)\n",
    "        classes, counts = np.unique(y, return_counts=True)\n",
    "        class_prior = counts / n_samples\n",
    "        return classes, class_prior\n",
    "    \n",
    "\n",
    "    def compute_feature_prob(self, X, y):\n",
    "        \"\"\"Tính xác suất có điều kiện của từng đặc trưng cho từng lớp.\"\"\"\n",
    "        n_features = X.shape[1]\n",
    "        n_classes = len(self.classes)\n",
    "        feature_prob = np.zeros((n_classes, n_features))\n",
    "        \n",
    "        for i, c in enumerate(self.classes):\n",
    "            X_c = X[y == c]\n",
    "            feature_prob[i, :] = (np.sum(X_c, axis=0) + self.alpha) / (np.sum(X_c) + self.alpha * n_features)\n",
    "        \n",
    "        return feature_prob\n",
    "\n",
    "    def compute_posterior(self, X):\n",
    "        \"\"\"Tính xác suất hậu nghiệm cho mỗi mẫu.\"\"\"\n",
    "        n_samples = X.shape[0]\n",
    "        n_classes = len(self.classes)\n",
    "        posterior = np.zeros((n_samples, n_classes))\n",
    "        \n",
    "        for i in range(n_samples):\n",
    "            for j in range(n_classes):\n",
    "                posterior[i, j] = np.log(self.class_prior[j]) + np.sum(np.log(self.feature_prob[j, :]) * X[i])\n",
    "        \n",
    "        return posterior\n",
    "\n",
    "    def predict(self, X):\n",
    "        \"\"\"Dự đoán nhãn lớp cho dữ liệu đầu vào.\"\"\"\n",
    "        posterior = self.compute_posterior(X)\n",
    "        return self.classes[np.argmax(posterior, axis=1)]\n",
    "    \n",
    "    def compute_accuracy(self, y_pred, y_true):\n",
    "        correct_predict = np.sum(y_true == y_pred)\n",
    "        total_predict = len(y_true)\n",
    "        accuracy = correct_predict / total_predict\n",
    "\n",
    "        return accuracy\n",
    "\n"
   ]
  },
  {
   "cell_type": "code",
   "execution_count": 2,
   "metadata": {},
   "outputs": [
    {
     "name": "stdout",
     "output_type": "stream",
     "text": [
      "Accuracy: 100.00%\n",
      "Predicted classes: [1]\n"
     ]
    }
   ],
   "source": [
    "#Ví dụ sử dụng\n",
    "\n",
    "X_train = np.array([\n",
    "    [2,1,0,0,0,0],\n",
    "    [2,0,1,0,0,0],\n",
    "    [1,0,0,1,0,0],\n",
    "    [1,0,0,0,1,1]\n",
    "])\n",
    "y_train = np.array([1,1,1,0])\n",
    "\n",
    "X_test = np.array([[3,0,0,0,1,1]])\n",
    "y_test = np.array([[1]])\n",
    "\n",
    "#Tạo mô hình phân loại Multinomial Naive Bayes\n",
    "clf = MultinomialNaiveBayes()\n",
    "\n",
    "#Huấn luyện mô hình\n",
    "clf.fit(X_train, y_train)\n",
    "\n",
    "# Dự đoán dữ liệu kiểm thử\n",
    "y_pred = clf.predict(X_test)\n",
    "\n",
    "# Tính toán độ chính xác \n",
    "accuracy = clf.compute_accuracy(y_pred, y_test)\n",
    "print(f\"Accuracy: {accuracy * 100:.2f}%\")\n",
    "print(\"Predicted classes:\", y_pred)"
   ]
  },
  {
   "cell_type": "markdown",
   "metadata": {},
   "source": []
  }
 ],
 "metadata": {
  "kernelspec": {
   "display_name": "env",
   "language": "python",
   "name": "python3"
  },
  "language_info": {
   "codemirror_mode": {
    "name": "ipython",
    "version": 3
   },
   "file_extension": ".py",
   "mimetype": "text/x-python",
   "name": "python",
   "nbconvert_exporter": "python",
   "pygments_lexer": "ipython3",
   "version": "3.12.2"
  }
 },
 "nbformat": 4,
 "nbformat_minor": 2
}
